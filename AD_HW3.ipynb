{
  "nbformat": 4,
  "nbformat_minor": 0,
  "metadata": {
    "colab": {
      "name": "AD_HW3.ipynb",
      "provenance": [],
      "collapsed_sections": []
    },
    "kernelspec": {
      "name": "python3",
      "display_name": "Python 3"
    }
  },
  "cells": [
    {
      "cell_type": "markdown",
      "metadata": {
        "id": "OLjRm4nBzoKO"
      },
      "source": [
        "# Advanced robotics & Robotics Systems\r\n",
        "**Homework Assignment 3**\r\n",
        "# BY:\r\n",
        "# Suliman Badour\r\n",
        "# Amer Al Badr\r\n",
        "# Mohamad Al Mdfaa "
      ]
    },
    {
      "cell_type": "markdown",
      "metadata": {
        "id": "KdM86ZOwwaF1"
      },
      "source": [
        "Import libraries and define Rotation and Translation matrices"
      ]
    },
    {
      "cell_type": "code",
      "metadata": {
        "id": "86pPwIbCzsPz"
      },
      "source": [
        "import numpy as np\r\n",
        "import math\r\n",
        "pi = math.pi\r\n",
        "from numpy.linalg import multi_dot, inv, pinv\r\n",
        "import matplotlib as mpl\r\n",
        "from mpl_toolkits.mplot3d import Axes3D\r\n",
        "import numpy as np\r\n",
        "import matplotlib.pyplot as plt\r\n",
        "from itertools import product, combinations\r\n",
        "from numpy.random import uniform\r\n",
        "import matplotlib.patches as mp"
      ],
      "execution_count": 430,
      "outputs": []
    },
    {
      "cell_type": "code",
      "metadata": {
        "id": "Gg5sZDpez_qC"
      },
      "source": [
        "def trotx(q):\r\n",
        "    Tx = np.array([[1,         0,          0, 0],\r\n",
        "                   [0, np.cos(q), -np.sin(q), 0],\r\n",
        "                   [0, np.sin(q),  np.cos(q), 0],\r\n",
        "                   [0,         0,          0, 1]], dtype = float)\r\n",
        "    return Tx\r\n",
        "\r\n",
        "def troty(q):\r\n",
        "    Ty = np.array([[ np.cos(q), 0, np.sin(q),  0],\r\n",
        "                   [         0, 1,         0,  0],\r\n",
        "                   [-np.sin(q), 0, np.cos(q),  0],\r\n",
        "                   [         0, 0,         0,  1]], dtype = float)\r\n",
        "    return Ty\r\n",
        "\r\n",
        "def trotz(q):\r\n",
        "    Tz = np.array([[np.cos(q), -np.sin(q),   0, 0],\r\n",
        "                   [np.sin(q),  np.cos(q),   0, 0],\r\n",
        "                   [        0,            0, 1, 0],\r\n",
        "                   [        0,            0, 0, 1]], dtype = float)\r\n",
        "    return Tz"
      ],
      "execution_count": 431,
      "outputs": []
    },
    {
      "cell_type": "code",
      "metadata": {
        "id": "ebf1RExg0Lba"
      },
      "source": [
        "def translx(q):\r\n",
        "    Tx = np.array([[1, 0, 0, q],\r\n",
        "                   [0, 1, 0, 0],\r\n",
        "                   [0, 0, 1, 0],\r\n",
        "                   [0, 0, 0, 1]], dtype = float)\r\n",
        "    return Tx\r\n",
        "\r\n",
        "def transly(q):\r\n",
        "    Ty = np.array([[1, 0, 0, 0],\r\n",
        "                   [0, 1, 0, q],\r\n",
        "                   [0, 0, 1, 0],\r\n",
        "                   [0, 0, 0, 1]], dtype = float)\r\n",
        "    return Ty\r\n",
        "\r\n",
        "def translz(q):\r\n",
        "    Tz = np.array([[1, 0, 0, 0],\r\n",
        "                   [0, 1, 0, 0],\r\n",
        "                   [0, 0, 1, q],\r\n",
        "                   [0, 0, 0, 1]], dtype = float)\r\n",
        "    return Tz\r\n",
        "\r\n",
        "def dtrotx(q):\r\n",
        "    dTx = np.array([[0,         0,          0,  0],\r\n",
        "                   [ 0, -np.sin(q), -np.cos(q), 0],\r\n",
        "                   [ 0,  np.cos(q), -np.sin(q), 0],\r\n",
        "                   [ 0,         0,          0,  0]], dtype = float)\r\n",
        "    return dTx\r\n",
        "\r\n",
        "def dtroty(q):\r\n",
        "    dTy = np.array([[-np.sin(q), 0, np.cos(q), 0],\r\n",
        "                   [          0, 0,         0, 0],\r\n",
        "                   [ -np.cos(q), 0,-np.sin(q), 0],\r\n",
        "                   [          0, 0,         0, 0]], dtype = float)\r\n",
        "    return dTy\r\n",
        "\r\n",
        "def dtrotz(q):\r\n",
        "    dTz = np.array([[-np.sin(q), -np.cos(q), 0, 0],\r\n",
        "                   [ np.cos(q),  -np.sin(q), 0, 0],\r\n",
        "                   [        0,            0, 0, 0],\r\n",
        "                   [        0,            0, 0, 0]], dtype = float)\r\n",
        "    return dTz\r\n",
        "\r\n",
        "def dtranslx(q):\r\n",
        "    dTx = np.array([[0, 0, 0, 1],\r\n",
        "                   [ 0, 0, 0, 0],\r\n",
        "                   [ 0, 0, 0, 0],\r\n",
        "                   [ 0, 0, 0, 0]], dtype = float)\r\n",
        "    return dTx\r\n",
        "\r\n",
        "def dtransly(q):\r\n",
        "    dTy = np.array([[0, 0, 0, 0],\r\n",
        "                   [ 0, 0, 0, 1],\r\n",
        "                   [ 0, 0, 0, 0],\r\n",
        "                   [ 0, 0, 0, 0]], dtype = float)\r\n",
        "    return dTy\r\n",
        "\r\n",
        "def dtranslz(q):\r\n",
        "    dTz = np.array([[0, 0, 0, 0],\r\n",
        "                   [ 0, 0, 0, 0],\r\n",
        "                   [ 0, 0, 0, 1],\r\n",
        "                   [ 0, 0, 0, 0]], dtype = float)\r\n",
        "    return dTz"
      ],
      "execution_count": 432,
      "outputs": []
    },
    {
      "cell_type": "code",
      "metadata": {
        "id": "D6bPGnzw0WNU"
      },
      "source": [
        "#Forward kinematics\r\n",
        "def fk( q_a, theta, length):\r\n",
        "    l1, l2 = length[0], length[1] \r\n",
        "    T_tool = multi_dot([translz(l1) ,trotz(q_a[0]), trotz(theta[0]), translz(q_a[1]), translz(theta[1]), transly(l2), transly(q_a[2]), transly(theta[2])])\r\n",
        "    return T_tool"
      ],
      "execution_count": 433,
      "outputs": []
    },
    {
      "cell_type": "code",
      "metadata": {
        "id": "06oiYs3E0Znj"
      },
      "source": [
        "#Inverse kinematics\r\n",
        "def ik(end_pos, length):\r\n",
        "    l1, l2 = length[0], length[1]\r\n",
        "    xe, ye, ze = end_pos\r\n",
        "\r\n",
        "    q1 = np.arctan2(xe, ye)\r\n",
        "    q2 = ze - l1\r\n",
        "    q3 = np.sqrt(xe**2+ ye**2) - l2 \r\n",
        "\r\n",
        "    return [q1, q2, q3] "
      ],
      "execution_count": 434,
      "outputs": []
    },
    {
      "cell_type": "code",
      "metadata": {
        "id": "rvtW-0m_0cWi"
      },
      "source": [
        "#Jacobian estimation function\r\n",
        "#translz(l1) ,trotz(q_a[0]), trotz(theta[0]), translz(q_a[1]), translz(theta[1]), transly(l2), transly(q_a[2]), transly(theta[2])\r\n",
        "def Jacob( q_a, theta, length):\r\n",
        "    l1, l2 = length\r\n",
        "    T = fk(q_a, theta, length)\r\n",
        "    T[0:3, 3] = 0\r\n",
        "    T_inv = np.transpose(T)\r\n",
        "    T1 = multi_dot([translz(l1),trotz(q_a[0]), dtrotz(theta[0]), translz(q_a[1]), translz(theta[1]), transly(l2), transly(q_a[2]), transly(theta[2]), T_inv])\r\n",
        "    J1 = np.array([[T1[0, 3]], [T1[1, 3]], [T1[2, 3]], [T1[2, 1]], [T1[0, 2]], [T1[1, 0]]], dtype = float)\r\n",
        "\r\n",
        "    T2 = multi_dot([translz(l1),trotz(q_a[0]), trotz(theta[0]), translz(q_a[1]), dtranslz(theta[1]), transly(l2), transly(q_a[2]), transly(theta[2]), T_inv])\r\n",
        "    J2 = np.array([[T2[0, 3]], [T2[1, 3]], [T2[2, 3]], [T2[2, 1]], [T2[0, 2]], [T2[1, 0]]], dtype = float)\r\n",
        "\r\n",
        "    T3 = multi_dot([translz(l1),trotz(q_a[0]), trotz(theta[0]), translz(q_a[1]), translz(theta[1]), transly(l2), transly(q_a[2]), dtransly(theta[2]), T_inv])\r\n",
        "    J3 = np.array([[T3[0, 3]], [T3[1, 3]], [T3[2, 3]], [T3[2, 1]], [T3[0, 2]], [T3[1, 0]]], dtype = float) \r\n",
        "\r\n",
        "    Jac_q = np.hstack((J1, J2, J3))\r\n",
        "    return Jac_q[0:3, 0:3]"
      ],
      "execution_count": 435,
      "outputs": []
    },
    {
      "cell_type": "code",
      "metadata": {
        "id": "f82C5t0v0gsc"
      },
      "source": [
        "#Calculate deflections function\r\n",
        "def calc_defl(K_theta, J_theta, W):\r\n",
        "    K_theta_inv = inv(K_theta)\r\n",
        "    dt = multi_dot([J_theta, K_theta_inv, np.transpose(J_theta), W])\r\n",
        "    return dt.reshape(-1, )"
      ],
      "execution_count": 436,
      "outputs": []
    },
    {
      "cell_type": "code",
      "metadata": {
        "id": "yh4SZwi90kQM"
      },
      "source": [
        "#Generate random data for experiments\r\n",
        "def generate_data(lq1, hq1, lq2, hq2, lq3, hq3, force_lim):\r\n",
        "    q1 = uniform(lq1, hq1)\r\n",
        "    q2 = uniform(lq2, hq2)\r\n",
        "    q3 = uniform(lq3, hq3)\r\n",
        "    q_a = [q1, q2, q3]\r\n",
        "    w = uniform(-force_lim, force_lim, 6 )\r\n",
        "    print(w[0:3])\r\n",
        "    return q_a, w[0:3]"
      ],
      "execution_count": 437,
      "outputs": []
    },
    {
      "cell_type": "code",
      "metadata": {
        "id": "orybIXTc0nBK"
      },
      "source": [
        "# Initial parameters\r\n",
        "\r\n",
        "lengths = [0.4, 0.1]\r\n",
        "thetas = [0, 0, 0]\r\n",
        "\r\n",
        "# Stiffness matrix\r\n",
        "ka1 = 1*10**6\r\n",
        "ka2 = 2*10**6\r\n",
        "ka3 = 0.5*10**6\r\n",
        "\r\n",
        "# K_theta before calibration\r\n",
        "K_theta = np.array([[ka1, 0, 0],\r\n",
        "                    [0, ka2, 0],\r\n",
        "                    [0, 0, ka3]], dtype = float)\r\n",
        "\r\n",
        "#Define noise parameters\r\n",
        "mean, std =0, 1e-5 \r\n"
      ],
      "execution_count": 438,
      "outputs": []
    },
    {
      "cell_type": "code",
      "metadata": {
        "id": "gXLwOcdb0wjC",
        "colab": {
          "base_uri": "https://localhost:8080/"
        },
        "outputId": "807b5672-8c3a-4bfe-f6c2-f1431c220f83"
      },
      "source": [
        "#Elastostatic Calibration\r\n",
        "\r\n",
        "#Generating data( With Noise)\r\n",
        "N_exp = 30\r\n",
        "A11, A12 = 0, 0\r\n",
        "for i in range (0, 1):\r\n",
        "    #generate the data\r\n",
        "    q_a, W = generate_data(-pi, pi, 0, 0.5, 0, 0.5, 1000)\r\n",
        "    #define Jacobian\r\n",
        "    J_theta = Jacob(q_a, thetas, lengths)\r\n",
        "    #def displacement \r\n",
        "    dt = calc_defl(K_theta, J_theta, W) + np.random.normal(mean, std)\r\n",
        "    A = np.zeros((J_theta.shape), dtype = float)\r\n",
        "    for col in range (A.shape[1]):\r\n",
        "        A[:, col] = np.outer(J_theta[:, col], J_theta[:, col]).dot(W)\r\n",
        "    A11 += inv(multi_dot([np.transpose(A), A]))\r\n",
        "    A12 += multi_dot([np.transpose(A), dt])"
      ],
      "execution_count": 439,
      "outputs": [
        {
          "output_type": "stream",
          "text": [
            "[-201.15899632 -890.71452495  987.26439996]\n"
          ],
          "name": "stdout"
        }
      ]
    },
    {
      "cell_type": "code",
      "metadata": {
        "colab": {
          "base_uri": "https://localhost:8080/"
        },
        "id": "QN6tZPXj0zvj",
        "outputId": "f2cbefec-6cba-4b11-e05e-6b0527c35a90"
      },
      "source": [
        "#Updating K_theta (MSE method)\r\n",
        "K_hat = A11.dot(A12)\r\n",
        "K_act_upd = np.divide(1, K_hat)\r\n",
        "ku1, ku2, ku3 = K_act_upd\r\n",
        "\r\n",
        "K_theta_calibr = np.array([[ku1, 0, 0],\r\n",
        "                           [0, ku2, 0],\r\n",
        "                           [0, 0, ku3]], dtype = float)\r\n",
        "print(K_theta_calibr)"
      ],
      "execution_count": 440,
      "outputs": [
        {
          "output_type": "stream",
          "text": [
            "[[ 965752.38055252       0.               0.        ]\n",
            " [      0.         2030708.18473375       0.        ]\n",
            " [      0.               0.          496161.56491136]]\n"
          ],
          "name": "stdout"
        }
      ]
    },
    {
      "cell_type": "code",
      "metadata": {
        "id": "8gmDYEyf042a"
      },
      "source": [
        "# Desired trajectory\r\n",
        "\r\n",
        "#Radius of desired trajc\r\n",
        "R = 4\r\n",
        "# Center Point \r\n",
        "xc, yc, zc = 0, 0, lengths[0]"
      ],
      "execution_count": 441,
      "outputs": []
    },
    {
      "cell_type": "code",
      "metadata": {
        "id": "LPUbZTLI084i"
      },
      "source": [
        "#Desired applied Force\r\n",
        "Force = np.array([600, 400, 1000], dtype= float)\r\n",
        "Force = Force.reshape(-1, 1)\r\n",
        "N_pts = N_exp"
      ],
      "execution_count": 442,
      "outputs": []
    },
    {
      "cell_type": "code",
      "metadata": {
        "id": "qfWLuT9y0_0y"
      },
      "source": [
        "# Generate points of the circle \r\n",
        "ang = np.linspace(0, 2*np.pi, N_pts, dtype = float)"
      ],
      "execution_count": 443,
      "outputs": []
    },
    {
      "cell_type": "code",
      "metadata": {
        "id": "AzoZAYdP1ISD"
      },
      "source": [
        "#Collect point on circle line \r\n",
        "xp = xc + R*np.cos(ang)\r\n",
        "yp = yc + R*np.sin(ang)\r\n",
        "zp = zc*np.ones(N_pts, dtype = float)\r\n",
        "des_tr = np.stack([xp, yp, zp])"
      ],
      "execution_count": 444,
      "outputs": []
    },
    {
      "cell_type": "code",
      "metadata": {
        "id": "xc_VT2G-1LHC"
      },
      "source": [
        "# Solve inverse kinematics for each point of desired trajectory\r\n",
        "Q_des = np.zeros((3, N_pts))\r\n",
        "for i in range(N_pts):\r\n",
        "    Q_des[:,i] = ik([xp[i], yp[i], zp[i]], lengths)"
      ],
      "execution_count": 445,
      "outputs": []
    },
    {
      "cell_type": "code",
      "metadata": {
        "id": "M2jdK0N61dG6"
      },
      "source": [
        "#Define the uncalibrated trajectory\r\n",
        "uncalibrated_trajc = np.zeros(des_tr.shape, dtype = float)\r\n",
        "for i in range(N_pts):\r\n",
        "    #Calculate jacobian with given configuration\r\n",
        "    J1 = Jacob(Q_des[:,i], thetas, lengths)\r\n",
        "    dt1 = calc_defl(K_theta_calibr, J1, Force) + np.random.normal(mean, std)\r\n",
        "    uncalibrated_trajc[:,i] = dt1 + des_tr[:,i]"
      ],
      "execution_count": 446,
      "outputs": []
    },
    {
      "cell_type": "code",
      "metadata": {
        "id": "gt5-LepY1hFv"
      },
      "source": [
        "# Update desired trajectory \r\n",
        "diff =   des_tr - uncalibrated_trajc\r\n",
        "des_tr_upd = des_tr + diff"
      ],
      "execution_count": 447,
      "outputs": []
    },
    {
      "cell_type": "code",
      "metadata": {
        "id": "r2v5B2yr1j22"
      },
      "source": [
        "#Update Q\r\n",
        "Q_des_upd = np.zeros((3, N_pts))\r\n",
        "for i in range(N_pts):\r\n",
        "    Q_des_upd[:,i] = ik([des_tr_upd[0,i], des_tr_upd[1,i], des_tr_upd[2,i]], lengths)"
      ],
      "execution_count": 448,
      "outputs": []
    },
    {
      "cell_type": "code",
      "metadata": {
        "id": "TM4NLhrc0MYC"
      },
      "source": [
        "#Calibrated trajectory\r\n",
        "calibrated_trajc = np.zeros(des_tr.shape, dtype = float)\r\n",
        "for i in range(N_pts):\r\n",
        "    #Calculate jacobian with given configuration\r\n",
        "    J2 = Jacob(Q_des_upd[:,i], thetas, lengths)\r\n",
        "    dt2 = calc_defl(K_theta_calibr, J2, Force) + np.random.normal(mean, std)\r\n",
        "    calibrated_trajc[:,i] = dt2 + des_tr_upd[:,i]"
      ],
      "execution_count": 449,
      "outputs": []
    },
    {
      "cell_type": "code",
      "metadata": {
        "colab": {
          "base_uri": "https://localhost:8080/",
          "height": 247
        },
        "id": "f-ih-qdO1o_a",
        "outputId": "259d05f7-1fb6-42e7-ccb5-abd1fe0b0700"
      },
      "source": [
        "#PLOT\r\n",
        "fig = plt.figure()\r\n",
        "ax = plt.axes(projection='3d')\r\n",
        "ax.set_xlabel('X')\r\n",
        "ax.set_ylabel('Y')\r\n",
        "ax.set_zlabel('Z')\r\n",
        "plt.title(\"Elastostatic and geometric calibration\")\r\n",
        "ax.plot3D(des_tr[0], des_tr[1], des_tr[2], c='red', linewidth = 4)\r\n",
        "ax.scatter3D(uncalibrated_trajc[0], uncalibrated_trajc[1], uncalibrated_trajc[2], c = 'green', linewidth = 4)\r\n",
        "ax.scatter3D(calibrated_trajc[0],calibrated_trajc[1], calibrated_trajc[2], c = 'blue', linewidth = 4)\r\n",
        "#Legends in patch form \r\n",
        "des_leg = mp.Patch(color='red', label='Desired Trajectory')\r\n",
        "uncalibr_leg = mp.Patch(color='green', label='Uncalibrated Trajectory')\r\n",
        "calibr_leg = mp.Patch(color='blue', label='Calibrated Trajectory')\r\n",
        "force_leg = mp.Patch(color='black', label='F =' + str(Force))\r\n",
        "plt.legend(handles=[des_leg, uncalibr_leg, calibr_leg, force_leg],loc='upper right', bbox_to_anchor=(0, 1))\r\n",
        "plt.show()"
      ],
      "execution_count": 450,
      "outputs": [
        {
          "output_type": "display_data",
          "data": {
            "image/png": "[encoded data removed]",
            "text/plain": [
              "<Figure size 432x288 with 1 Axes>"
            ]
          },
          "metadata": {
            "tags": [],
            "needs_background": "light"
          }
        }
      ]
    }
  ]
}